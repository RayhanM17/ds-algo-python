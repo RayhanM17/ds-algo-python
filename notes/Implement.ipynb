{
 "cells": [
  {
   "cell_type": "markdown",
   "metadata": {},
   "source": [
    "# DSA - Notes and Implementations"
   ]
  },
  {
   "cell_type": "markdown",
   "metadata": {
    "vscode": {
     "languageId": "plaintext"
    }
   },
   "source": [
    "## Binary - Heaps (Min-heaps and Max-Heaps)"
   ]
  },
  {
   "cell_type": "markdown",
   "metadata": {},
   "source": [
    "Min Heap Insert Method\n",
    "\n",
    "Start at the bottom of the tree and then swap with the parent until the tree is corrected.\n",
    "Takes O(logn) time\n",
    "\n",
    "Min Heap Extract Method\n",
    "\n",
    "Remove element and swap with the bottommost rightmost element\n",
    "bubble down this element swaping with either left or right element but making sure the the element its swapping with is smaller.\n",
    "Takes O(logn) time"
   ]
  },
  {
   "cell_type": "code",
   "execution_count": 6,
   "metadata": {},
   "outputs": [
    {
     "name": "stdout",
     "output_type": "stream",
     "text": [
      "Extracting elements from the min-heap:\n",
      "Key: c, Value: 5\n",
      "Key: a, Value: 10\n",
      "Key: b, Value: 20\n",
      "Key: d, Value: 30\n"
     ]
    }
   ],
   "source": [
    "import heapq\n",
    "\n",
    "# Input dictionary\n",
    "data = {'a': 10, 'b': 20, 'c': 5, 'd': 30}\n",
    "\n",
    "# Step 1: Create a list of tuples with negated values\n",
    "min_heap = [(value, key) for key, value in data.items()]\n",
    "\n",
    "# Step 2: Heapify the list\n",
    "heapq.heapify(min_heap)\n",
    "\n",
    "# Step 3: Extract elements from the heap\n",
    "print(\"Extracting elements from the min-heap:\")\n",
    "while min_heap:\n",
    "    value, key = heapq.heappop(min_heap)\n",
    "    print(f\"Key: {key}, Value: {value}\")\n"
   ]
  },
  {
   "cell_type": "code",
   "execution_count": 7,
   "metadata": {},
   "outputs": [
    {
     "name": "stdout",
     "output_type": "stream",
     "text": [
      "Extracting elements from the max-heap:\n",
      "Key: d, Value: 30\n",
      "Key: b, Value: 20\n",
      "Key: a, Value: 10\n",
      "Key: c, Value: 5\n"
     ]
    }
   ],
   "source": [
    "import heapq\n",
    "\n",
    "# Step 1: Create a list of tuples with negated values\n",
    "max_heap = [(-value, key) for key, value in data.items()]\n",
    "\n",
    "# Step 2: Heapify the list\n",
    "heapq.heapify(max_heap)\n",
    "\n",
    "# Step 3: Extract elements from the heap\n",
    "print(\"Extracting elements from the max-heap:\")\n",
    "while max_heap:\n",
    "    value, key = heapq.heappop(max_heap)\n",
    "    print(f\"Key: {key}, Value: {-value}\")  # Negate the value back to its original form\n"
   ]
  },
  {
   "cell_type": "markdown",
   "metadata": {},
   "source": [
    "heapq\n",
    "by default it is a min heap\n",
    "the heapify function works on the first item in the tuple thus value, key\n",
    "use the heapqheapify to build the tree which takes in a list of tuples\n",
    "use heapq.heappop() to extract values"
   ]
  },
  {
   "cell_type": "markdown",
   "metadata": {},
   "source": []
  }
 ],
 "metadata": {
  "kernelspec": {
   "display_name": "jupyterEnv",
   "language": "python",
   "name": "python3"
  },
  "language_info": {
   "codemirror_mode": {
    "name": "ipython",
    "version": 3
   },
   "file_extension": ".py",
   "mimetype": "text/x-python",
   "name": "python",
   "nbconvert_exporter": "python",
   "pygments_lexer": "ipython3",
   "version": "3.9.21"
  }
 },
 "nbformat": 4,
 "nbformat_minor": 2
}
