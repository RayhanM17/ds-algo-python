{
 "cells": [
  {
   "cell_type": "markdown",
   "metadata": {},
   "source": [
    "# DS - Notes and Implementations"
   ]
  },
  {
   "cell_type": "markdown",
   "metadata": {
    "vscode": {
     "languageId": "plaintext"
    }
   },
   "source": [
    "## Binary - Heaps (Min-heaps and Max-Heaps)"
   ]
  },
  {
   "cell_type": "markdown",
   "metadata": {},
   "source": [
    "Min Heap Insert Method\n",
    "\n",
    "Start at the bottom of the tree and then swap with the parent until the tree is corrected.\n",
    "Takes O(logn) time\n",
    "\n",
    "Min Heap Extract Method\n",
    "\n",
    "Remove element and swap with the bottommost rightmost element\n",
    "bubble down this element swaping with either left or right element but making sure the the element its swapping with is smaller.\n",
    "Takes O(logn) time"
   ]
  },
  {
   "cell_type": "code",
   "execution_count": 3,
   "metadata": {},
   "outputs": [
    {
     "name": "stdout",
     "output_type": "stream",
     "text": [
      "Extracting elements from the min-heap:\n",
      "Key: c, Value: 5\n",
      "Key: a, Value: 10\n",
      "Key: b, Value: 20\n",
      "Key: d, Value: 30\n"
     ]
    }
   ],
   "source": [
    "import heapq\n",
    "\n",
    "# Input dictionary\n",
    "data = {'a': 10, 'b': 20, 'c': 5, 'd': 30}\n",
    "\n",
    "# Step 1: Create a list of tuples with negated values\n",
    "min_heap = [(value, key) for key, value in data.items()]\n",
    "\n",
    "# Step 2: Heapify the list\n",
    "heapq.heapify(min_heap)\n",
    "\n",
    "# Step 3: Extract elements from the heap\n",
    "print(\"Extracting elements from the min-heap:\")\n",
    "while min_heap:\n",
    "    value, key = heapq.heappop(min_heap)\n",
    "    print(f\"Key: {key}, Value: {value}\")\n"
   ]
  },
  {
   "cell_type": "code",
   "execution_count": 4,
   "metadata": {},
   "outputs": [
    {
     "name": "stdout",
     "output_type": "stream",
     "text": [
      "Extracting elements from the max-heap:\n",
      "Key: d, Value: 30\n",
      "Key: b, Value: 20\n",
      "Key: a, Value: 10\n",
      "Key: c, Value: 5\n"
     ]
    }
   ],
   "source": [
    "import heapq\n",
    "\n",
    "# Step 1: Create a list of tuples with negated values\n",
    "max_heap = [(-value, key) for key, value in data.items()]\n",
    "\n",
    "# Step 2: Heapify the list\n",
    "heapq.heapify(max_heap)\n",
    "\n",
    "# Step 3: Extract elements from the heap\n",
    "print(\"Extracting elements from the max-heap:\")\n",
    "while max_heap:\n",
    "    value, key = heapq.heappop(max_heap)\n",
    "    print(f\"Key: {key}, Value: {-value}\")  # Negate the value back to its original form\n"
   ]
  },
  {
   "cell_type": "markdown",
   "metadata": {},
   "source": [
    "heapq\n",
    "by default it is a min heap\n",
    "the heapify function works on the first item in the tuple thus value, key\n",
    "use the heapqheapify to build the tree which takes in a list of tuples\n",
    "use heapq.heappop() to extract values"
   ]
  },
  {
   "cell_type": "markdown",
   "metadata": {},
   "source": [
    "## Prefix concept"
   ]
  },
  {
   "cell_type": "markdown",
   "metadata": {},
   "source": [
    "have a value set as a number.\n",
    "then as you loop through the array do your operation and get the current status of the operation at that instance"
   ]
  },
  {
   "cell_type": "code",
   "execution_count": 5,
   "metadata": {},
   "outputs": [
    {
     "data": {
      "text/plain": [
       "[12, 24, 1344, 75264]"
      ]
     },
     "execution_count": 5,
     "metadata": {},
     "output_type": "execute_result"
    }
   ],
   "source": [
    "myarr = [12, 2, 56, 56]\n",
    "resarr = [0] * len(myarr)\n",
    "\n",
    "prefix = 1\n",
    "\n",
    "for i in range(len(myarr)):\n",
    "    resarr[i] = prefix * myarr[i]\n",
    "    prefix *= myarr[i]\n",
    "\n",
    "resarr"
   ]
  },
  {
   "cell_type": "code",
   "execution_count": 6,
   "metadata": {},
   "outputs": [
    {
     "data": {
      "text/plain": [
       "[12, 14, 70, 126]"
      ]
     },
     "execution_count": 6,
     "metadata": {},
     "output_type": "execute_result"
    }
   ],
   "source": [
    "prefix = 0\n",
    "\n",
    "for i in range(len(myarr)):\n",
    "    resarr[i] = prefix + myarr[i]\n",
    "    prefix += myarr[i]\n",
    "\n",
    "resarr"
   ]
  },
  {
   "cell_type": "markdown",
   "metadata": {},
   "source": [
    "# Graphs\n"
   ]
  },
  {
   "cell_type": "code",
   "execution_count": null,
   "metadata": {},
   "outputs": [],
   "source": [
    "#Quick Search Implementation\n",
    "\n",
    "class UnionFind:\n",
    "    def __init__(self, size):\n",
    "        self.root = [i for i in range(size)]\n",
    "\n",
    "    #O(1)\n",
    "    def find(self, x):\n",
    "        return self.root[x]\n",
    "    \n",
    "    #O(N)\n",
    "    def union(self, x, y):\n",
    "        rootX = self.find(x)\n",
    "        rootY = self.find(y)\n",
    "        if rootX != rootY:\n",
    "            for i in range(len(self.root)):\n",
    "                if self.root[i] == rootY:\n",
    "                    self.root[i] = rootX\n",
    "        \n",
    "    def connected(self, x, y):\n",
    "        return self.find(x) == self.find(y)\n",
    "    "
   ]
  },
  {
   "cell_type": "code",
   "execution_count": 6,
   "metadata": {},
   "outputs": [],
   "source": [
    "# Test Case\n",
    "\n",
    "uf = UnionFind(10)\n",
    "\n",
    "# 1-2-5-6-7 3-8-9 4\n",
    "uf.union(1, 2)\n",
    "uf.union(2, 5)\n",
    "uf.union(5, 6)\n",
    "uf.union(6, 7)\n",
    "uf.union(3, 8)\n",
    "uf.union(8, 9)\n"
   ]
  },
  {
   "cell_type": "code",
   "execution_count": null,
   "metadata": {},
   "outputs": [
    {
     "name": "stdout",
     "output_type": "stream",
     "text": [
      "True\n",
      "True\n",
      "False\n"
     ]
    }
   ],
   "source": [
    "print(uf.connected(1, 5))\n",
    "print(uf.connected(5, 7))\n",
    "print(uf.connected(4, 9))"
   ]
  },
  {
   "cell_type": "code",
   "execution_count": null,
   "metadata": {},
   "outputs": [
    {
     "name": "stdout",
     "output_type": "stream",
     "text": [
      "True\n"
     ]
    }
   ],
   "source": [
    "# 1-2-5-6-7 3-8-9-4\n",
    "\n",
    "uf.union(9, 4)\n",
    "print(uf.connected(4, 9))"
   ]
  },
  {
   "cell_type": "code",
   "execution_count": null,
   "metadata": {},
   "outputs": [],
   "source": []
  }
 ],
 "metadata": {
  "kernelspec": {
   "display_name": "jupyterEnv",
   "language": "python",
   "name": "python3"
  },
  "language_info": {
   "codemirror_mode": {
    "name": "ipython",
    "version": 3
   },
   "file_extension": ".py",
   "mimetype": "text/x-python",
   "name": "python",
   "nbconvert_exporter": "python",
   "pygments_lexer": "ipython3",
   "version": "3.9.21"
  }
 },
 "nbformat": 4,
 "nbformat_minor": 2
}
